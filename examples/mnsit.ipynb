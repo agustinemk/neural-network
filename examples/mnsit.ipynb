{
 "cells": [
  {
   "cell_type": "code",
   "execution_count": 2,
   "metadata": {},
   "outputs": [
    {
     "name": "stderr",
     "output_type": "stream",
     "text": [
      "2022-09-21 00:49:01.435943: W tensorflow/stream_executor/platform/default/dso_loader.cc:64] Could not load dynamic library 'libcudart.so.11.0'; dlerror: libcudart.so.11.0: cannot open shared object file: No such file or directory\n",
      "2022-09-21 00:49:01.435989: I tensorflow/stream_executor/cuda/cudart_stub.cc:29] Ignore above cudart dlerror if you do not have a GPU set up on your machine.\n"
     ]
    }
   ],
   "source": [
    "from neural_network import Network\n",
    "from neural_network.layers import Dense, Reshape\n",
    "from neural_network.activations import Sigmoid\n",
    "from neural_network.losses import MSE\n",
    "\n",
    "from keras.datasets import mnist\n",
    "from keras.utils import np_utils\n",
    "\n",
    "import matplotlib.pyplot as plt\n",
    "import numpy as np\n",
    "import random"
   ]
  },
  {
   "cell_type": "code",
   "execution_count": 3,
   "metadata": {},
   "outputs": [],
   "source": [
    "# load MNIST from server\n",
    "(x_train, y_train), (x_test, y_test) = mnist.load_data()\n",
    "\n",
    "# reshape and normalize data\n",
    "x_train = x_train.astype('float32') / 255\n",
    "x_test = x_test.astype('float32') / 255\n",
    "\n",
    "# encode output\n",
    "y_train = np_utils.to_categorical(y_train)\n",
    "y_train = y_train.reshape(len(y_train), 10, 1)\n",
    "\n",
    "y_test = np_utils.to_categorical(y_test)\n",
    "y_test = y_test.reshape(len(y_test), 10, 1)"
   ]
  },
  {
   "cell_type": "code",
   "execution_count": 4,
   "metadata": {},
   "outputs": [],
   "source": [
    "network = Network(loss=MSE())\n",
    "network.add_layers(\n",
    "    Reshape((28, 28), (28*28, 1)),\n",
    "    Dense(28*28, 100, activation=Sigmoid()),\n",
    "    Dense(100, 50, activation=Sigmoid()),\n",
    "    Dense(50, 10, activation=Sigmoid()),\n",
    ")"
   ]
  },
  {
   "cell_type": "code",
   "execution_count": 5,
   "metadata": {},
   "outputs": [
    {
     "name": "stdout",
     "output_type": "stream",
     "text": [
      "epoch 1/10 loss=0.11748637583886126\n",
      "epoch 2/10 loss=0.09517111777601901\n",
      "epoch 3/10 loss=0.09271403744503416\n",
      "epoch 4/10 loss=0.08627512095751222\n",
      "epoch 5/10 loss=0.07626453646452808\n",
      "epoch 6/10 loss=0.0648827539281599\n",
      "epoch 7/10 loss=0.0545471153757421\n",
      "epoch 8/10 loss=0.04723379071796331\n",
      "epoch 9/10 loss=0.04198155834293168\n",
      "epoch 10/10 loss=0.03823132373302722\n"
     ]
    }
   ],
   "source": [
    "network.fit(x_train[0:1000], y_train[0:1000], epochs=10, learning_rate=0.1, verbose=True)"
   ]
  },
  {
   "cell_type": "code",
   "execution_count": 6,
   "metadata": {},
   "outputs": [
    {
     "name": "stdout",
     "output_type": "stream",
     "text": [
      "AVG: 66.90% from 1000 tests\n"
     ]
    }
   ],
   "source": [
    "tests = 1000\n",
    "correct = 0\n",
    "\n",
    "for _ in range(tests):\n",
    "    test_index = random.randint(0, x_test.shape[0])\n",
    "    test = x_test[test_index]\n",
    "\n",
    "    output = network.predict(test)\n",
    "    prediction = np.argmax(output, axis=0)\n",
    "\n",
    "    true_output = np.argmax(y_test[test_index], axis=0)\n",
    "\n",
    "    if prediction - true_output == 0:\n",
    "        correct += 1\n",
    "\n",
    "print(f\"AVG: {correct / tests :.2%} from {tests} tests\")"
   ]
  },
  {
   "cell_type": "code",
   "execution_count": 7,
   "metadata": {},
   "outputs": [
    {
     "data": {
      "image/png": "[encoded data removed]",
      "text/plain": [
       "<Figure size 432x288 with 1 Axes>"
      ]
     },
     "metadata": {
      "needs_background": "light"
     },
     "output_type": "display_data"
    }
   ],
   "source": [
    "# pick a sample\n",
    "sample = random.randint(0, x_test.shape[0])\n",
    "image = x_test[sample]\n",
    "\n",
    "# predict\n",
    "output = network.predict(image)\n",
    "prediction = np.argmax(output, axis=0)\n",
    "\n",
    "# plot the sample\n",
    "plt.title(label=f\"Prediction: {prediction}, True output: {np.argmax(y_test[sample], axis=0)}\")\n",
    "plt.imshow(image)\n",
    "plt.show()"
   ]
  }
 ],
 "metadata": {
  "kernelspec": {
   "display_name": "Python 3.9.9 64-bit",
   "language": "python",
   "name": "python3"
  },
  "language_info": {
   "codemirror_mode": {
    "name": "ipython",
    "version": 3
   },
   "file_extension": ".py",
   "mimetype": "text/x-python",
   "name": "python",
   "nbconvert_exporter": "python",
   "pygments_lexer": "ipython3",
   "version": "3.9.9"
  },
  "orig_nbformat": 4,
  "vscode": {
   "interpreter": {
    "hash": "767d51c1340bd893661ea55ea3124f6de3c7a262a8b4abca0554b478b1e2ff90"
   }
  }
 },
 "nbformat": 4,
 "nbformat_minor": 2
}
